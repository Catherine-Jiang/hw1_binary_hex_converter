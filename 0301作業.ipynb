{
  "nbformat": 4,
  "nbformat_minor": 0,
  "metadata": {
    "colab": {
      "provenance": []
    },
    "kernelspec": {
      "name": "python3",
      "display_name": "Python 3"
    },
    "language_info": {
      "name": "python"
    }
  },
  "cells": [
    {
      "cell_type": "code",
      "execution_count": null,
      "metadata": {
        "id": "EoON7WAVK-vX"
      },
      "outputs": [],
      "source": [
        "#將十進位轉換為二進位\n",
        "def decimal_to_binary(decimal):\n",
        "    binary = \"\"  #儲存二進位數字的字串\n",
        "    while decimal > 0:\n",
        "        remainder = decimal % 2\n",
        "        binary = str(remainder) + binary  #在前面加上餘數，構成二進位數字\n",
        "        decimal = decimal // 2\n",
        "    binary = binary.zfill(8)  #將二進位數字填充成8位\n",
        "    return binary\n",
        "\n",
        "#將二進位數字轉換為十六進位\n",
        "def binary_to_hex(binary):\n",
        "    hex_digits = \"\"  #儲存十六進位數字的字串\n",
        "    for i in range(0, len(binary), 4):  #每四位一組\n",
        "        four_bits = binary[i:i+4]\n",
        "        decimal = int(four_bits, 2)  #將四位二進位轉換為十進位\n",
        "        hex_digit = hex(decimal)[2:]  #將十進位轉換為十六進位，並去掉前綴\n",
        "        hex_digits += hex_digit.upper()  #轉換為大寫並添加到結果中\n",
        "    return hex_digits\n",
        "\n",
        "#測試程式碼\n",
        "decimal_number = int(input(\"請輸入一個數字 (0-255)：\"))\n",
        "\n",
        "if decimal_number < 0 or decimal_number > 255:\n",
        "    print(\"請輸入範圍內的數字\")\n",
        "else:\n",
        "    binary_number = decimal_to_binary(decimal_number)\n",
        "    hex_number = binary_to_hex(binary_number)\n",
        "\n",
        "    print(f\"十進位數字 {decimal_number} 轉換為二進位為: {binary_number}\")\n",
        "    print(f\"轉換為十六進位為: {hex_number}\")\n"
      ]
    }
  ]
}