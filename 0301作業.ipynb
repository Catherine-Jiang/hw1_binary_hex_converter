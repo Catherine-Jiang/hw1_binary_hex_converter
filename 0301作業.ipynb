{
  "nbformat": 4,
  "nbformat_minor": 0,
  "metadata": {
    "colab": {
      "provenance": []
    },
    "kernelspec": {
      "name": "python3",
      "display_name": "Python 3"
    },
    "language_info": {
      "name": "python"
    }
  },
  "cells": [
    {
      "cell_type": "code",
      "execution_count": 13,
      "metadata": {
        "colab": {
          "base_uri": "https://localhost:8080/"
        },
        "id": "o4zArx1q3VpD",
        "outputId": "0b0717d2-6ff9-4a47-960f-657de01d7cf4"
      },
      "outputs": [
        {
          "output_type": "stream",
          "name": "stdout",
          "text": [
            "請在0-255輸入一個數字243\n",
            "轉成二進位為 11110011\n",
            "轉成十六進位為 F3\n"
          ]
        }
      ],
      "source": [
        "#將十進位轉換為二進位\n",
        "decimal = int(input(\"請在0-255輸入一個數字\"))\n",
        "if decimal < 0 or decimal > 255:\n",
        "  print(\"請重新輸入數字\")\n",
        "else:\n",
        "  i = 7 #最大到2的7次方\n",
        "  binary = \"\" #儲存二進位數字的字串\n",
        "  while i >= 0:\n",
        "     if decimal >= 2**i:\n",
        "       decimal -= 2**i\n",
        "       binary += \"1\"\n",
        "     else:\n",
        "       binary += \"0\"\n",
        "     i -= 1\n",
        "  print(\"轉成二進位為\", binary)\n",
        "\n",
        "#將二進位數字轉換為十六進位\n",
        "  hexadecimal = \"\" #儲存十六進位數字的字串\n",
        "  letter = {10:\"A\", 11:\"B\", 12:\"C\", 13:\"D\", 14:\"E\", 15:\"F\"} #轉成字母\n",
        "  for i in range(0, 2):\n",
        "    cut = binary[4 * i: 4 *(i + 1)] #將二進位切割為第0-3位、第4-7位\n",
        "    binary_to_decimal = 0\n",
        "    for j in range(0, 4):\n",
        "      k = 3 - j #得到次方\n",
        "      binary_to_decimal += (2 ** k) * int(cut[j]) #還原成十進位\n",
        "    if binary_to_decimal >= 10:\n",
        "      hexadecimal += letter[binary_to_decimal] #大於等於10的轉成字母\n",
        "    else:\n",
        "      hexadecimal += str(binary_to_decimal) #小於10的保留數字\n",
        "  print(\"轉成十六進位為\", hexadecimal)\n"
      ]
    }
  ]
}